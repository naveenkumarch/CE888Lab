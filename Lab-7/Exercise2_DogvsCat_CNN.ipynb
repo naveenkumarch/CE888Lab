{
  "nbformat": 4,
  "nbformat_minor": 0,
  "metadata": {
    "colab": {
      "name": "Copy of Exercise2_DogvsCat_CNN.ipynb",
      "provenance": [],
      "include_colab_link": true
    },
    "kernelspec": {
      "name": "python3",
      "display_name": "Python 3"
    },
    "accelerator": "GPU"
  },
  "cells": [
    {
      "cell_type": "markdown",
      "metadata": {
        "id": "view-in-github",
        "colab_type": "text"
      },
      "source": [
        "<a href=\"https://colab.research.google.com/github/naveenkumarch/CE888Lab/blob/main/Lab-7/Exercise2_DogvsCat_CNN.ipynb\" target=\"_parent\"><img src=\"https://colab.research.google.com/assets/colab-badge.svg\" alt=\"Open In Colab\"/></a>"
      ]
    },
    {
      "cell_type": "markdown",
      "metadata": {
        "id": "qTh9DiKVslsJ"
      },
      "source": [
        "## Dogs vs. Cats \n",
        "\n",
        "In this competition, you'll write an algorithm to classify whether images contain either a dog or a cat.  This is easy for humans, dogs, and cats. Your computer will find it a bit more difficult.\n",
        "\n",
        "![alt text](https://miro.medium.com/max/3000/1*bhFifratH9DjKqMBTeQG5A.gif)\n",
        "\n",
        "Ref: https://medium.com/@thegrigorian/rolling-in-the-deep-cnn-c8d3f7108c8c"
      ]
    },
    {
      "cell_type": "markdown",
      "metadata": {
        "id": "RSBI-_mSSY1g"
      },
      "source": [
        "Get your API Key from Kaggle using following steps:\n",
        "1. Login to [Kaggle](https://www.kaggle.com/) or Register if you don't have account\n",
        "2. Open Dataset (https://www.kaggle.com/c/dogs-vs-cats/rules) and accept terms and condition. \n",
        "3. On the top right corner click on your Icon and go to accounts and press a button \"Create New API Token\". It will download a JSON file containing your username and key. \n",
        "4. Now, paste both below. \n"
      ]
    },
    {
      "cell_type": "code",
      "metadata": {
        "id": "YmXSOc0tZIGA",
        "colab": {
          "base_uri": "https://localhost:8080/"
        },
        "outputId": "2294cfef-dd57-475e-e258-ada62ab33f38"
      },
      "source": [
        "import os\n",
        "os.environ['KAGGLE_USERNAME'] = \"chandranaveenkumar\" # username from the json file\n",
        "os.environ['KAGGLE_KEY'] = \"095ab5f59c671a183b9cba345bd50ba8\" # key from the json file\n",
        "!kaggle competitions download -c dogs-vs-cats # api copied from kaggle (https://www.kaggle.com/c/dogs-vs-cats/data)"
      ],
      "execution_count": 1,
      "outputs": [
        {
          "output_type": "stream",
          "text": [
            "Warning: Looks like you're using an outdated API Version, please consider updating (server 1.5.12 / client 1.5.4)\n",
            "Downloading sampleSubmission.csv to /content\n",
            "  0% 0.00/86.8k [00:00<?, ?B/s]\n",
            "100% 86.8k/86.8k [00:00<00:00, 32.8MB/s]\n",
            "Downloading test1.zip to /content\n",
            " 92% 249M/271M [00:02<00:00, 106MB/s]\n",
            "100% 271M/271M [00:02<00:00, 128MB/s]\n",
            "Downloading train.zip to /content\n",
            " 95% 518M/543M [00:02<00:00, 267MB/s]\n",
            "100% 543M/543M [00:02<00:00, 256MB/s]\n"
          ],
          "name": "stdout"
        }
      ]
    },
    {
      "cell_type": "code",
      "metadata": {
        "id": "PiwIL8d1n7eS",
        "colab": {
          "base_uri": "https://localhost:8080/"
        },
        "outputId": "25af801a-8413-4e98-c5fb-c9ae3761a989"
      },
      "source": [
        "# Unzip training data\n",
        "from zipfile import ZipFile\n",
        "file_name = \"/content/train.zip\"\n",
        "with ZipFile(file_name, 'r') as zip:\n",
        "  zip.extractall()\n",
        "  print('done')"
      ],
      "execution_count": 2,
      "outputs": [
        {
          "output_type": "stream",
          "text": [
            "done\n"
          ],
          "name": "stdout"
        }
      ]
    },
    {
      "cell_type": "code",
      "metadata": {
        "id": "sa2Bj5i7pPKV",
        "colab": {
          "base_uri": "https://localhost:8080/"
        },
        "outputId": "21499051-f464-4ef6-d976-82ddd293db90"
      },
      "source": [
        "# Get all the paths\n",
        "data_dir_list = os.listdir('/content/train')\n",
        "#print(data_dir_list)\n",
        "path, dirs, files = next(os.walk(\"/content/train\"))\n",
        "file_count = len(files)\n",
        "print(file_count)"
      ],
      "execution_count": 3,
      "outputs": [
        {
          "output_type": "stream",
          "text": [
            "25000\n"
          ],
          "name": "stdout"
        }
      ]
    },
    {
      "cell_type": "code",
      "metadata": {
        "id": "0ERlHkfHqpK8"
      },
      "source": [
        "# Make new base directory\n",
        "original_dataset_dir = '/content/train'\n",
        "base_dir = '/content/cats_and_dogs_small'\n",
        "os.mkdir(base_dir)"
      ],
      "execution_count": 4,
      "outputs": []
    },
    {
      "cell_type": "code",
      "metadata": {
        "id": "AANB1UJ6rQhM"
      },
      "source": [
        "train_dir = os.path.join(base_dir, 'train')\n",
        "os.mkdir(train_dir)\n",
        "\n",
        "validation_dir = os.path.join(base_dir, 'validation')\n",
        "os.mkdir(validation_dir)\n",
        "\n",
        "test_dir = os.path.join(base_dir, 'test')\n",
        "os.mkdir(test_dir)\n",
        "\n",
        "train_cats_dir = os.path.join(train_dir, 'cats')\n",
        "os.mkdir(train_cats_dir)\n",
        "\n",
        "train_dogs_dir = os.path.join(train_dir, 'dogs')\n",
        "os.mkdir(train_dogs_dir)\n",
        "\n",
        "validation_cats_dir = os.path.join(validation_dir, 'cats')\n",
        "os.mkdir(validation_cats_dir)\n",
        "\n",
        "validation_dogs_dir = os.path.join(validation_dir, 'dogs')\n",
        "os.mkdir(validation_dogs_dir)\n",
        "\n",
        "test_cats_dir = os.path.join(test_dir, 'cats')\n",
        "os.mkdir(test_cats_dir)\n",
        "\n",
        "test_dogs_dir = os.path.join(test_dir, 'dogs')\n",
        "os.mkdir(test_dogs_dir)"
      ],
      "execution_count": 5,
      "outputs": []
    },
    {
      "cell_type": "code",
      "metadata": {
        "id": "ULRgL9s9rV8T"
      },
      "source": [
        "import shutil\n",
        "fnames = ['cat.{}.jpg'.format(i) for i in range(1000)]\n",
        "for fname in fnames:\n",
        "    src = os.path.join(original_dataset_dir, fname)\n",
        "    dst = os.path.join(train_cats_dir, fname)\n",
        "    #print(src,dst)\n",
        "    shutil.copyfile(src, dst)\n",
        "    \n",
        "fnames = ['cat.{}.jpg'.format(i) for i in range(1000, 1500)]\n",
        "for fname in fnames:\n",
        "    src = os.path.join(original_dataset_dir, fname)\n",
        "    dst = os.path.join(validation_cats_dir, fname)\n",
        "    shutil.copyfile(src, dst)\n",
        "\n",
        "fnames = ['cat.{}.jpg'.format(i) for i in range(1500, 2000)]\n",
        "for fname in fnames:\n",
        "    src = os.path.join(original_dataset_dir, fname)\n",
        "    dst = os.path.join(test_cats_dir, fname)\n",
        "    shutil.copyfile(src, dst)\n",
        "    \n",
        "fnames = ['dog.{}.jpg'.format(i) for i in range(1000)]\n",
        "for fname in fnames:\n",
        "    src = os.path.join(original_dataset_dir, fname)\n",
        "    dst = os.path.join(train_dogs_dir, fname)\n",
        "    shutil.copyfile(src, dst)\n",
        "\n",
        "fnames = ['dog.{}.jpg'.format(i) for i in range(1000, 1500)]\n",
        "for fname in fnames:\n",
        "    src = os.path.join(original_dataset_dir, fname)\n",
        "    dst = os.path.join(validation_dogs_dir, fname)\n",
        "    shutil.copyfile(src, dst)\n",
        "\n",
        "fnames = ['dog.{}.jpg'.format(i) for i in range(1500, 2000)]\n",
        "for fname in fnames:\n",
        "    src = os.path.join(original_dataset_dir, fname)\n",
        "    dst = os.path.join(test_dogs_dir, fname)\n",
        "    shutil.copyfile(src, dst)"
      ],
      "execution_count": 6,
      "outputs": []
    },
    {
      "cell_type": "code",
      "metadata": {
        "id": "ul3XAbIyr7vC",
        "colab": {
          "base_uri": "https://localhost:8080/"
        },
        "outputId": "80e32bff-36a9-4503-d287-a212773cd0b8"
      },
      "source": [
        "print('total training cat images:', len(os.listdir(train_cats_dir)))\n",
        "print('total training dog images:', len(os.listdir(train_dogs_dir)))\n",
        "print('total validation cat images:', len(os.listdir(validation_cats_dir)))\n",
        "\n",
        "print('total validation dog images:', len(os.listdir(validation_dogs_dir)))\n",
        "print('total test cat images:', len(os.listdir(test_cats_dir)))\n",
        "print('total test dog images:', len(os.listdir(test_dogs_dir)))"
      ],
      "execution_count": 7,
      "outputs": [
        {
          "output_type": "stream",
          "text": [
            "total training cat images: 1000\n",
            "total training dog images: 1000\n",
            "total validation cat images: 500\n",
            "total validation dog images: 500\n",
            "total test cat images: 500\n",
            "total test dog images: 500\n"
          ],
          "name": "stdout"
        }
      ]
    },
    {
      "cell_type": "code",
      "metadata": {
        "id": "o9yTA21_r-ma",
        "colab": {
          "base_uri": "https://localhost:8080/"
        },
        "outputId": "25660210-7af9-4ab2-91e0-56a51d62d11c"
      },
      "source": [
        "from keras import layers\n",
        "from keras import models\n",
        "\n",
        "model = models.Sequential()\n",
        "model.add(layers.Conv2D(32, (3, 3), activation='relu', input_shape=(150, 150, 3)))\n",
        "model.add(layers.MaxPooling2D((2, 2)))\n",
        "model.add(layers.Conv2D(64, (3, 3), activation='relu'))\n",
        "model.add(layers.MaxPooling2D((2, 2)))\n",
        "model.add(layers.Conv2D(128, (3, 3), activation='relu'))\n",
        "model.add(layers.MaxPooling2D((2, 2)))\n",
        "model.add(layers.Conv2D(128, (3, 3), activation='relu'))\n",
        "model.add(layers.MaxPooling2D((2, 2)))\n",
        "model.add(layers.Flatten())\n",
        "model.add(layers.Dense(512, activation='relu'))\n",
        "model.add(layers.Dense(1, activation='sigmoid'))\n",
        "model.summary()"
      ],
      "execution_count": 8,
      "outputs": [
        {
          "output_type": "stream",
          "text": [
            "Model: \"sequential\"\n",
            "_________________________________________________________________\n",
            "Layer (type)                 Output Shape              Param #   \n",
            "=================================================================\n",
            "conv2d (Conv2D)              (None, 148, 148, 32)      896       \n",
            "_________________________________________________________________\n",
            "max_pooling2d (MaxPooling2D) (None, 74, 74, 32)        0         \n",
            "_________________________________________________________________\n",
            "conv2d_1 (Conv2D)            (None, 72, 72, 64)        18496     \n",
            "_________________________________________________________________\n",
            "max_pooling2d_1 (MaxPooling2 (None, 36, 36, 64)        0         \n",
            "_________________________________________________________________\n",
            "conv2d_2 (Conv2D)            (None, 34, 34, 128)       73856     \n",
            "_________________________________________________________________\n",
            "max_pooling2d_2 (MaxPooling2 (None, 17, 17, 128)       0         \n",
            "_________________________________________________________________\n",
            "conv2d_3 (Conv2D)            (None, 15, 15, 128)       147584    \n",
            "_________________________________________________________________\n",
            "max_pooling2d_3 (MaxPooling2 (None, 7, 7, 128)         0         \n",
            "_________________________________________________________________\n",
            "flatten (Flatten)            (None, 6272)              0         \n",
            "_________________________________________________________________\n",
            "dense (Dense)                (None, 512)               3211776   \n",
            "_________________________________________________________________\n",
            "dense_1 (Dense)              (None, 1)                 513       \n",
            "=================================================================\n",
            "Total params: 3,453,121\n",
            "Trainable params: 3,453,121\n",
            "Non-trainable params: 0\n",
            "_________________________________________________________________\n"
          ],
          "name": "stdout"
        }
      ]
    },
    {
      "cell_type": "code",
      "metadata": {
        "id": "2mG8wekxsBVS"
      },
      "source": [
        "from keras import optimizers\n",
        "model.compile(loss='binary_crossentropy', \n",
        "              optimizer=optimizers.RMSprop(lr=1e-4),\n",
        "              metrics=['acc'])"
      ],
      "execution_count": 9,
      "outputs": []
    },
    {
      "cell_type": "markdown",
      "metadata": {
        "id": "7zS4Klm8qWp6"
      },
      "source": [
        "## Using ImageDataGenerator to read images from directories\n",
        "As you know by now, data should be formatted into appropriately preprocessed floatingpoint tensors before being fed into the network. Currently, the data sits on a drive as JPEG files, so the steps for getting it into the network are roughly as follows:\n",
        "\n",
        "* Read the picture files.\n",
        "* Decode the JPEG content to RGB grids of pixels.\n",
        "* Convert these into floating-point tensors.\n",
        "* Rescale the pixel values (between 0 and 255) to the [0, 1] interval (as you know, neural networks prefer to deal with small input values).\n",
        "\n",
        "It may seem a bit daunting, but fortunately Keras has utilities to take care of these steps automatically. Keras has a module with image-processing helper tools, located at keras.preprocessing.image. In particular, it contains the class ImageDataGenerator,which lets you quickly set up Python generators that can automatically turn image files on disk into batches of preprocessed tensors."
      ]
    },
    {
      "cell_type": "code",
      "metadata": {
        "id": "XJ7XU7t9sEh6",
        "colab": {
          "base_uri": "https://localhost:8080/"
        },
        "outputId": "8c1d037d-89b6-4730-a55f-7a91614cc46e"
      },
      "source": [
        "from keras.preprocessing.image import ImageDataGenerator\n",
        "\n",
        "train_datagen = ImageDataGenerator(rescale=1./255)\n",
        "test_datagen = ImageDataGenerator(rescale=1./255)\n",
        "\n",
        "train_generator = train_datagen.flow_from_directory(train_dir,\n",
        "                                                    target_size=(150, 150), \n",
        "                                                    batch_size=20,\n",
        "                                                    class_mode='binary')\n",
        "\n",
        "validation_generator = test_datagen.flow_from_directory(validation_dir,\n",
        "                                                        target_size=(150, 150),\n",
        "                                                        batch_size=20,\n",
        "                                                        class_mode='binary')"
      ],
      "execution_count": 10,
      "outputs": [
        {
          "output_type": "stream",
          "text": [
            "Found 2000 images belonging to 2 classes.\n",
            "Found 1000 images belonging to 2 classes.\n"
          ],
          "name": "stdout"
        }
      ]
    },
    {
      "cell_type": "markdown",
      "metadata": {
        "id": "SEgLywySqm4u"
      },
      "source": [
        "Let’s fit the model to the data using the generator. You do so using the fit_generator method, the equivalent of fit for data generators like this one. It expects as its first argument a Python generator that will yield batches of inputs and targets indefinitely,like this one does. Because the data is being generated endlessly, the Keras model needs to know how many samples to draw from the generator before declaring anepoch over. This is the role of the `steps_per_epoch` argument: after having drawn `steps_per_epoch` batches from the generator—that is, after having run for `steps_per_epoch` gradient descent steps—the fitting process will go to the next epoch. In this case, batches are 20 samples, so it will take 100 batches until you see your target of 2,000 samples.\n",
        "\n",
        "When using fit_generator, you can pass a validation_data argument, much as with the fit method. It’s important to note that this argument is allowed to be a data generator, but it could also be a tuple of Numpy arrays. If you pass a generator as validation_data, then this generator is expected to yield batches of validation data endlessly; thus you should also specify the validation_steps argument, which tells the process how many batches to draw from the validation generator for evaluation."
      ]
    },
    {
      "cell_type": "code",
      "metadata": {
        "id": "yMyfPphJsJG6",
        "colab": {
          "base_uri": "https://localhost:8080/"
        },
        "outputId": "ff35d1aa-10aa-48d5-9be0-6e84556fa232"
      },
      "source": [
        "history = model.fit_generator(train_generator,\n",
        "                              steps_per_epoch=100,\n",
        "                              epochs=30,\n",
        "                              validation_data=validation_generator,\n",
        "                              validation_steps=10)"
      ],
      "execution_count": 11,
      "outputs": [
        {
          "output_type": "stream",
          "text": [
            "/usr/local/lib/python3.7/dist-packages/tensorflow/python/keras/engine/training.py:1844: UserWarning: `Model.fit_generator` is deprecated and will be removed in a future version. Please use `Model.fit`, which supports generators.\n",
            "  warnings.warn('`Model.fit_generator` is deprecated and '\n"
          ],
          "name": "stderr"
        },
        {
          "output_type": "stream",
          "text": [
            "Epoch 1/30\n",
            "100/100 [==============================] - 40s 67ms/step - loss: 0.6966 - acc: 0.5178 - val_loss: 0.6655 - val_acc: 0.6550\n",
            "Epoch 2/30\n",
            "100/100 [==============================] - 7s 65ms/step - loss: 0.6561 - acc: 0.6216 - val_loss: 0.6127 - val_acc: 0.7100\n",
            "Epoch 3/30\n",
            "100/100 [==============================] - 6s 64ms/step - loss: 0.6015 - acc: 0.6705 - val_loss: 0.5853 - val_acc: 0.6800\n",
            "Epoch 4/30\n",
            "100/100 [==============================] - 6s 65ms/step - loss: 0.5640 - acc: 0.7128 - val_loss: 0.6334 - val_acc: 0.6300\n",
            "Epoch 5/30\n",
            "100/100 [==============================] - 7s 66ms/step - loss: 0.5363 - acc: 0.7315 - val_loss: 0.6908 - val_acc: 0.6200\n",
            "Epoch 6/30\n",
            "100/100 [==============================] - 7s 66ms/step - loss: 0.5153 - acc: 0.7429 - val_loss: 0.5963 - val_acc: 0.6650\n",
            "Epoch 7/30\n",
            "100/100 [==============================] - 7s 65ms/step - loss: 0.4918 - acc: 0.7590 - val_loss: 0.5831 - val_acc: 0.6850\n",
            "Epoch 8/30\n",
            "100/100 [==============================] - 7s 65ms/step - loss: 0.4458 - acc: 0.7833 - val_loss: 0.6749 - val_acc: 0.6150\n",
            "Epoch 9/30\n",
            "100/100 [==============================] - 7s 65ms/step - loss: 0.4369 - acc: 0.7978 - val_loss: 0.5052 - val_acc: 0.7750\n",
            "Epoch 10/30\n",
            "100/100 [==============================] - 7s 65ms/step - loss: 0.4125 - acc: 0.8065 - val_loss: 0.5579 - val_acc: 0.7050\n",
            "Epoch 11/30\n",
            "100/100 [==============================] - 7s 66ms/step - loss: 0.3701 - acc: 0.8449 - val_loss: 0.5444 - val_acc: 0.7050\n",
            "Epoch 12/30\n",
            "100/100 [==============================] - 6s 65ms/step - loss: 0.3617 - acc: 0.8468 - val_loss: 0.5492 - val_acc: 0.7100\n",
            "Epoch 13/30\n",
            "100/100 [==============================] - 7s 65ms/step - loss: 0.3296 - acc: 0.8637 - val_loss: 0.6012 - val_acc: 0.7350\n",
            "Epoch 14/30\n",
            "100/100 [==============================] - 7s 66ms/step - loss: 0.3131 - acc: 0.8651 - val_loss: 0.6341 - val_acc: 0.7350\n",
            "Epoch 15/30\n",
            "100/100 [==============================] - 7s 65ms/step - loss: 0.3123 - acc: 0.8767 - val_loss: 0.5822 - val_acc: 0.7300\n",
            "Epoch 16/30\n",
            "100/100 [==============================] - 6s 65ms/step - loss: 0.2690 - acc: 0.8968 - val_loss: 0.6649 - val_acc: 0.6850\n",
            "Epoch 17/30\n",
            "100/100 [==============================] - 6s 64ms/step - loss: 0.2537 - acc: 0.8855 - val_loss: 0.5141 - val_acc: 0.7750\n",
            "Epoch 18/30\n",
            "100/100 [==============================] - 6s 65ms/step - loss: 0.2258 - acc: 0.9144 - val_loss: 1.0146 - val_acc: 0.6350\n",
            "Epoch 19/30\n",
            "100/100 [==============================] - 7s 65ms/step - loss: 0.2256 - acc: 0.9046 - val_loss: 0.5742 - val_acc: 0.7600\n",
            "Epoch 20/30\n",
            "100/100 [==============================] - 7s 65ms/step - loss: 0.1731 - acc: 0.9399 - val_loss: 0.8380 - val_acc: 0.6700\n",
            "Epoch 21/30\n",
            "100/100 [==============================] - 6s 64ms/step - loss: 0.1711 - acc: 0.9443 - val_loss: 0.5889 - val_acc: 0.7750\n",
            "Epoch 22/30\n",
            "100/100 [==============================] - 7s 65ms/step - loss: 0.1534 - acc: 0.9508 - val_loss: 0.6159 - val_acc: 0.7250\n",
            "Epoch 23/30\n",
            "100/100 [==============================] - 6s 65ms/step - loss: 0.1367 - acc: 0.9585 - val_loss: 0.8212 - val_acc: 0.7250\n",
            "Epoch 24/30\n",
            "100/100 [==============================] - 7s 66ms/step - loss: 0.1197 - acc: 0.9558 - val_loss: 0.6180 - val_acc: 0.7700\n",
            "Epoch 25/30\n",
            "100/100 [==============================] - 7s 65ms/step - loss: 0.1069 - acc: 0.9660 - val_loss: 0.7240 - val_acc: 0.7200\n",
            "Epoch 26/30\n",
            "100/100 [==============================] - 6s 65ms/step - loss: 0.0895 - acc: 0.9699 - val_loss: 0.7822 - val_acc: 0.7450\n",
            "Epoch 27/30\n",
            "100/100 [==============================] - 6s 65ms/step - loss: 0.0795 - acc: 0.9782 - val_loss: 0.9302 - val_acc: 0.7000\n",
            "Epoch 28/30\n",
            "100/100 [==============================] - 6s 65ms/step - loss: 0.0689 - acc: 0.9841 - val_loss: 0.9382 - val_acc: 0.6950\n",
            "Epoch 29/30\n",
            "100/100 [==============================] - 6s 65ms/step - loss: 0.0551 - acc: 0.9866 - val_loss: 1.0591 - val_acc: 0.7150\n",
            "Epoch 30/30\n",
            "100/100 [==============================] - 7s 66ms/step - loss: 0.0414 - acc: 0.9916 - val_loss: 0.7666 - val_acc: 0.7700\n"
          ],
          "name": "stdout"
        }
      ]
    },
    {
      "cell_type": "code",
      "metadata": {
        "id": "MZaZ2HWZsNUi",
        "colab": {
          "base_uri": "https://localhost:8080/",
          "height": 545
        },
        "outputId": "9911917d-08e9-4993-ae2a-fe48dfdf0251"
      },
      "source": [
        "model.save('cats_and_dogs_small_1.h5')\n",
        "\n",
        "import matplotlib.pyplot as plt\n",
        "\n",
        "acc = history.history['acc']\n",
        "val_acc = history.history['val_acc']\n",
        "loss = history.history['loss']\n",
        "val_loss = history.history['val_loss']\n",
        "\n",
        "epochs = range(1, len(acc) + 1)\n",
        "\n",
        "plt.plot(epochs, acc, 'bo', label='Training acc')\n",
        "plt.plot(epochs, val_acc, 'b', label='Validation acc')\n",
        "plt.title('Training and validation accuracy')\n",
        "plt.legend()\n",
        "\n",
        "plt.figure()\n",
        "\n",
        "plt.plot(epochs, loss, 'bo', label='Training loss')\n",
        "plt.plot(epochs, val_loss, 'b', label='Validation loss')\n",
        "plt.title('Training and validation loss')\n",
        "plt.legend()\n",
        "\n",
        "plt.show()"
      ],
      "execution_count": 12,
      "outputs": [
        {
          "output_type": "display_data",
          "data": {
            "image/png": "[encoded data removed]",
            "text/plain": [
              "<Figure size 432x288 with 1 Axes>"
            ]
          },
          "metadata": {
            "tags": [],
            "needs_background": "light"
          }
        },
        {
          "output_type": "display_data",
          "data": {
            "image/png": "[encoded data removed]",
            "text/plain": [
              "<Figure size 432x288 with 1 Axes>"
            ]
          },
          "metadata": {
            "tags": [],
            "needs_background": "light"
          }
        }
      ]
    },
    {
      "cell_type": "markdown",
      "metadata": {
        "id": "XKZmXmBcq_8-"
      },
      "source": [
        "## Convolutional Networks with Dropout\n",
        "\n",
        "![alt text](https://camo.githubusercontent.com/ee6fa1073247cd2c3d241300caf110d7a7541bc5/68747470733a2f2f63646e2d696d616765732d312e6d656469756d2e636f6d2f6d61782f3830302f312a4972644a355067684439596f4f7956415137334d4a772e676966)\n",
        "\n",
        "Ref: https://github.com/mneha4/Training-Neural-Nets---Guidelines"
      ]
    },
    {
      "cell_type": "code",
      "metadata": {
        "id": "wu3cqeYQrDeN"
      },
      "source": [
        "model = models.Sequential()\n",
        "model.add(layers.Conv2D(32, (3, 3), activation='relu',\n",
        "input_shape=(150, 150, 3)))\n",
        "model.add(layers.MaxPooling2D((2, 2)))\n",
        "model.add(layers.Conv2D(64, (3, 3), activation='relu'))\n",
        "model.add(layers.MaxPooling2D((2, 2)))\n",
        "model.add(layers.Conv2D(128, (3, 3), activation='relu'))\n",
        "model.add(layers.MaxPooling2D((2, 2)))\n",
        "model.add(layers.Conv2D(128, (3, 3), activation='relu'))\n",
        "model.add(layers.MaxPooling2D((2, 2)))\n",
        "model.add(layers.Flatten())\n",
        "model.add(layers.Dropout(0.5))\n",
        "model.add(layers.Dense(512, activation='relu'))\n",
        "model.add(layers.Dense(1, activation='sigmoid'))\n",
        "\n",
        "model.compile(loss='binary_crossentropy',\n",
        "              optimizer=optimizers.RMSprop(lr=1e-4),\n",
        "              metrics=['acc'])"
      ],
      "execution_count": 13,
      "outputs": []
    },
    {
      "cell_type": "code",
      "metadata": {
        "id": "QSeLpvY0rH7F",
        "colab": {
          "base_uri": "https://localhost:8080/"
        },
        "outputId": "287671a5-b80d-4d89-a2d0-656cde2e54f8"
      },
      "source": [
        "\n",
        "train_datagen = ImageDataGenerator(rescale=1./255,\n",
        "                                   rotation_range=40,\n",
        "                                   width_shift_range=0.2,\n",
        "                                   height_shift_range=0.2,\n",
        "                                   shear_range=0.2,\n",
        "                                   zoom_range=0.2,\n",
        "                                   horizontal_flip=True,)\n",
        "\n",
        "test_datagen = ImageDataGenerator(rescale=1./255)\n",
        "\n",
        "train_generator = train_datagen.flow_from_directory(train_dir,\n",
        "                                                    target_size=(150, 150),\n",
        "                                                    batch_size=20,\n",
        "                                                    class_mode='binary')\n",
        "\n",
        "validation_generator = test_datagen.flow_from_directory(validation_dir,\n",
        "                                                        target_size=(150, 150),\n",
        "                                                        batch_size=20,\n",
        "                                                        class_mode='binary')\n",
        "\n",
        "history = model.fit_generator(train_generator,\n",
        "                              steps_per_epoch=100,\n",
        "                              epochs=20,\n",
        "                              validation_data=validation_generator,\n",
        "                              validation_steps=50)"
      ],
      "execution_count": 15,
      "outputs": [
        {
          "output_type": "stream",
          "text": [
            "Found 2000 images belonging to 2 classes.\n",
            "Found 1000 images belonging to 2 classes.\n"
          ],
          "name": "stdout"
        },
        {
          "output_type": "stream",
          "text": [
            "/usr/local/lib/python3.7/dist-packages/tensorflow/python/keras/engine/training.py:1844: UserWarning: `Model.fit_generator` is deprecated and will be removed in a future version. Please use `Model.fit`, which supports generators.\n",
            "  warnings.warn('`Model.fit_generator` is deprecated and '\n"
          ],
          "name": "stderr"
        },
        {
          "output_type": "stream",
          "text": [
            "Epoch 1/20\n",
            "100/100 [==============================] - 17s 169ms/step - loss: 0.6873 - acc: 0.5535 - val_loss: 0.6765 - val_acc: 0.5300\n",
            "Epoch 2/20\n",
            "100/100 [==============================] - 17s 168ms/step - loss: 0.6716 - acc: 0.5755 - val_loss: 0.6498 - val_acc: 0.6180\n",
            "Epoch 3/20\n",
            "100/100 [==============================] - 17s 168ms/step - loss: 0.6523 - acc: 0.6025 - val_loss: 0.6292 - val_acc: 0.6260\n",
            "Epoch 4/20\n",
            "100/100 [==============================] - 17s 168ms/step - loss: 0.6249 - acc: 0.6475 - val_loss: 0.7001 - val_acc: 0.5710\n",
            "Epoch 5/20\n",
            "100/100 [==============================] - 17s 167ms/step - loss: 0.6259 - acc: 0.6425 - val_loss: 0.5885 - val_acc: 0.6760\n",
            "Epoch 6/20\n",
            "100/100 [==============================] - 17s 169ms/step - loss: 0.6096 - acc: 0.6710 - val_loss: 0.5852 - val_acc: 0.6860\n",
            "Epoch 7/20\n",
            "100/100 [==============================] - 17s 169ms/step - loss: 0.6016 - acc: 0.6710 - val_loss: 0.5689 - val_acc: 0.6930\n",
            "Epoch 8/20\n",
            "100/100 [==============================] - 17s 169ms/step - loss: 0.5900 - acc: 0.6840 - val_loss: 0.6371 - val_acc: 0.6520\n",
            "Epoch 9/20\n",
            "100/100 [==============================] - 17s 169ms/step - loss: 0.5933 - acc: 0.6795 - val_loss: 0.5853 - val_acc: 0.6730\n",
            "Epoch 10/20\n",
            "100/100 [==============================] - 17s 169ms/step - loss: 0.5776 - acc: 0.7080 - val_loss: 0.5969 - val_acc: 0.6700\n",
            "Epoch 11/20\n",
            "100/100 [==============================] - 17s 168ms/step - loss: 0.5793 - acc: 0.6985 - val_loss: 0.5628 - val_acc: 0.7050\n",
            "Epoch 12/20\n",
            "100/100 [==============================] - 17s 168ms/step - loss: 0.5688 - acc: 0.7025 - val_loss: 0.6009 - val_acc: 0.6820\n",
            "Epoch 13/20\n",
            "100/100 [==============================] - 17s 169ms/step - loss: 0.5705 - acc: 0.6945 - val_loss: 0.5542 - val_acc: 0.7120\n",
            "Epoch 14/20\n",
            "100/100 [==============================] - 17s 168ms/step - loss: 0.5698 - acc: 0.7040 - val_loss: 0.5451 - val_acc: 0.7150\n",
            "Epoch 15/20\n",
            "100/100 [==============================] - 17s 168ms/step - loss: 0.5658 - acc: 0.7030 - val_loss: 0.5440 - val_acc: 0.7030\n",
            "Epoch 16/20\n",
            "100/100 [==============================] - 17s 168ms/step - loss: 0.5528 - acc: 0.7225 - val_loss: 0.5296 - val_acc: 0.7220\n",
            "Epoch 17/20\n",
            "100/100 [==============================] - 17s 168ms/step - loss: 0.5517 - acc: 0.7250 - val_loss: 0.5276 - val_acc: 0.7290\n",
            "Epoch 18/20\n",
            "100/100 [==============================] - 17s 169ms/step - loss: 0.5563 - acc: 0.7195 - val_loss: 0.5139 - val_acc: 0.7340\n",
            "Epoch 19/20\n",
            "100/100 [==============================] - 17s 168ms/step - loss: 0.5518 - acc: 0.7155 - val_loss: 0.5792 - val_acc: 0.7020\n",
            "Epoch 20/20\n",
            "100/100 [==============================] - 17s 168ms/step - loss: 0.5459 - acc: 0.7205 - val_loss: 0.5335 - val_acc: 0.7310\n"
          ],
          "name": "stdout"
        }
      ]
    },
    {
      "cell_type": "markdown",
      "metadata": {
        "id": "BRdU5yrkUF_b"
      },
      "source": [
        "# Task 2:\n",
        "\n",
        "We have used Dropout to enhance the performance of the CNN model. Can you please use whatever you like to further enhance the performance from `val_acc: 0.7506`? "
      ]
    },
    {
      "cell_type": "markdown",
      "metadata": {
        "id": "7JCUzG6amDfW"
      },
      "source": [
        "Adding Batch Normalization layers to the Model architecture "
      ]
    },
    {
      "cell_type": "code",
      "metadata": {
        "id": "EDDvZGY8ewI9"
      },
      "source": [
        "model = models.Sequential()\n",
        "model.add(layers.Conv2D(32, (3, 3), activation='relu',\n",
        "input_shape=(150, 150, 3)))\n",
        "model.add(layers.BatchNormalization())\n",
        "model.add(layers.MaxPooling2D((2, 2)))\n",
        "model.add(layers.Conv2D(64, (3, 3), activation='relu'))\n",
        "model.add(layers.BatchNormalization())\n",
        "model.add(layers.MaxPooling2D((2, 2)))\n",
        "model.add(layers.Conv2D(128, (3, 3), activation='relu'))\n",
        "model.add(layers.BatchNormalization())\n",
        "model.add(layers.MaxPooling2D((2, 2)))\n",
        "model.add(layers.Conv2D(128, (3, 3), activation='relu'))\n",
        "model.add(layers.BatchNormalization())\n",
        "model.add(layers.MaxPooling2D((2, 2)))\n",
        "model.add(layers.Flatten())\n",
        "model.add(layers.Dropout(0.5))\n",
        "model.add(layers.Dense(512, activation='relu'))\n",
        "model.add(layers.Dense(1, activation='sigmoid'))\n",
        "\n",
        "model.compile(loss='binary_crossentropy',\n",
        "              optimizer=optimizers.RMSprop(lr=1e-4),\n",
        "              metrics=['acc'])"
      ],
      "execution_count": 29,
      "outputs": []
    },
    {
      "cell_type": "code",
      "metadata": {
        "colab": {
          "base_uri": "https://localhost:8080/"
        },
        "id": "tycKlZVNaT5U",
        "outputId": "10cb64b1-dead-4c07-d659-24e0ae7dacba"
      },
      "source": [
        "train_datagen = ImageDataGenerator(rescale=1./255,\n",
        "                                   rotation_range=40,\n",
        "                                   width_shift_range=0.2,\n",
        "                                   height_shift_range=0.2,\n",
        "                                   shear_range=0.2,\n",
        "                                   zoom_range=0.2,\n",
        "                                   horizontal_flip=True,)\n",
        "\n",
        "test_datagen = ImageDataGenerator(rescale=1./255)\n",
        "\n",
        "train_generator = train_datagen.flow_from_directory(train_dir,\n",
        "                                                    target_size=(150, 150),\n",
        "                                                    batch_size=20,\n",
        "                                                    class_mode='binary')\n",
        "\n",
        "validation_generator = test_datagen.flow_from_directory(validation_dir,\n",
        "                                                        target_size=(150, 150),\n",
        "                                                        batch_size=20,\n",
        "                                                        class_mode='binary')\n",
        "\n",
        "history = model.fit_generator(train_generator,\n",
        "                              steps_per_epoch=100,\n",
        "                              epochs=20,\n",
        "                              validation_data=validation_generator,\n",
        "                              validation_steps=50)"
      ],
      "execution_count": 30,
      "outputs": [
        {
          "output_type": "stream",
          "text": [
            "Found 2000 images belonging to 2 classes.\n",
            "Found 1000 images belonging to 2 classes.\n"
          ],
          "name": "stdout"
        },
        {
          "output_type": "stream",
          "text": [
            "/usr/local/lib/python3.7/dist-packages/tensorflow/python/keras/engine/training.py:1844: UserWarning: `Model.fit_generator` is deprecated and will be removed in a future version. Please use `Model.fit`, which supports generators.\n",
            "  warnings.warn('`Model.fit_generator` is deprecated and '\n"
          ],
          "name": "stderr"
        },
        {
          "output_type": "stream",
          "text": [
            "Epoch 1/20\n",
            "100/100 [==============================] - 18s 172ms/step - loss: 1.3292 - acc: 0.5105 - val_loss: 1.4309 - val_acc: 0.5000\n",
            "Epoch 2/20\n",
            "100/100 [==============================] - 17s 170ms/step - loss: 0.8763 - acc: 0.6190 - val_loss: 1.5533 - val_acc: 0.5000\n",
            "Epoch 3/20\n",
            "100/100 [==============================] - 17s 169ms/step - loss: 0.8244 - acc: 0.6122 - val_loss: 1.6094 - val_acc: 0.5050\n",
            "Epoch 4/20\n",
            "100/100 [==============================] - 17s 170ms/step - loss: 0.7926 - acc: 0.6360 - val_loss: 1.1239 - val_acc: 0.5450\n",
            "Epoch 5/20\n",
            "100/100 [==============================] - 17s 170ms/step - loss: 0.6848 - acc: 0.6677 - val_loss: 0.7854 - val_acc: 0.6240\n",
            "Epoch 6/20\n",
            "100/100 [==============================] - 17s 170ms/step - loss: 0.6819 - acc: 0.6578 - val_loss: 0.7359 - val_acc: 0.6600\n",
            "Epoch 7/20\n",
            "100/100 [==============================] - 17s 168ms/step - loss: 0.6467 - acc: 0.6738 - val_loss: 0.6104 - val_acc: 0.6690\n",
            "Epoch 8/20\n",
            "100/100 [==============================] - 17s 170ms/step - loss: 0.6026 - acc: 0.6897 - val_loss: 0.6656 - val_acc: 0.6420\n",
            "Epoch 9/20\n",
            "100/100 [==============================] - 17s 168ms/step - loss: 0.6153 - acc: 0.6910 - val_loss: 0.5605 - val_acc: 0.7090\n",
            "Epoch 10/20\n",
            "100/100 [==============================] - 17s 171ms/step - loss: 0.5931 - acc: 0.7078 - val_loss: 0.6117 - val_acc: 0.6840\n",
            "Epoch 11/20\n",
            "100/100 [==============================] - 17s 169ms/step - loss: 0.5574 - acc: 0.6968 - val_loss: 0.6972 - val_acc: 0.6320\n",
            "Epoch 12/20\n",
            "100/100 [==============================] - 17s 170ms/step - loss: 0.5603 - acc: 0.7097 - val_loss: 0.5736 - val_acc: 0.7100\n",
            "Epoch 13/20\n",
            "100/100 [==============================] - 17s 172ms/step - loss: 0.5411 - acc: 0.7273 - val_loss: 0.5716 - val_acc: 0.7150\n",
            "Epoch 14/20\n",
            "100/100 [==============================] - 17s 170ms/step - loss: 0.5765 - acc: 0.7288 - val_loss: 0.5644 - val_acc: 0.7170\n",
            "Epoch 15/20\n",
            "100/100 [==============================] - 17s 168ms/step - loss: 0.5454 - acc: 0.7326 - val_loss: 0.5849 - val_acc: 0.7050\n",
            "Epoch 16/20\n",
            "100/100 [==============================] - 17s 169ms/step - loss: 0.5767 - acc: 0.6968 - val_loss: 0.6226 - val_acc: 0.7170\n",
            "Epoch 17/20\n",
            "100/100 [==============================] - 17s 167ms/step - loss: 0.5430 - acc: 0.7179 - val_loss: 0.5645 - val_acc: 0.7230\n",
            "Epoch 18/20\n",
            "100/100 [==============================] - 17s 168ms/step - loss: 0.5387 - acc: 0.7379 - val_loss: 0.5751 - val_acc: 0.7350\n",
            "Epoch 19/20\n",
            "100/100 [==============================] - 17s 169ms/step - loss: 0.5350 - acc: 0.7413 - val_loss: 0.5375 - val_acc: 0.7200\n",
            "Epoch 20/20\n",
            "100/100 [==============================] - 17s 169ms/step - loss: 0.5357 - acc: 0.7450 - val_loss: 0.5090 - val_acc: 0.7530\n"
          ],
          "name": "stdout"
        }
      ]
    },
    {
      "cell_type": "code",
      "metadata": {
        "id": "sNPm_0ySeVlD"
      },
      "source": [
        ""
      ],
      "execution_count": null,
      "outputs": []
    }
  ]
}